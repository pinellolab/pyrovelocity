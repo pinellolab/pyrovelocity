{
  "nbformat": 4,
  "nbformat_minor": 0,
  "metadata": {
    "colab": {
      "provenance": []
    },
    "kernelspec": {
      "name": "python3",
      "display_name": "Python 3"
    },
    "language_info": {
      "name": "python"
    },
    "accelerator": "GPU",
    "gpuClass": "standard"
  },
  "cells": [
    {
      "cell_type": "markdown",
      "source": [
        "# Pyrovelocity Colab notebook template"
      ],
      "metadata": {
        "id": "Qpk2p3N13W_Q"
      }
    },
    {
      "cell_type": "markdown",
      "source": [
        "## Setup environment"
      ],
      "metadata": {
        "id": "9r9zVJED3bfH"
      }
    },
    {
      "cell_type": "markdown",
      "source": [
        "### Install conda environment"
      ],
      "metadata": {
        "id": "tnQdC9wi3dpY"
      }
    },
    {
      "cell_type": "markdown",
      "source": [
        "This first stage will download and install the environment. It takes about 5 minutes. The runtime will then automatically restart. Skip execution of this cell after the restart."
      ],
      "metadata": {
        "id": "eylffLqA3GVb"
      }
    },
    {
      "cell_type": "code",
      "execution_count": null,
      "metadata": {
        "id": "K4YU4y6VX4qR",
        "colab": {
          "base_uri": "https://localhost:8080/"
        },
        "outputId": "392f66ec-c2ed-4ba5-94f6-a4fdd884e242"
      },
      "outputs": [
        {
          "output_type": "stream",
          "name": "stdout",
          "text": [
            "⏬ Downloading https://storage.googleapis.com/pyrovelocity/data/scripts/pyrovelocity-colab-0.1.1-Linux-x86_64.sh...\n",
            "📦 Installing...\n",
            "📌 Adjusting configuration...\n",
            "🩹 Patching environment...\n",
            "⏲ Done in 0:04:24\n",
            "🔁 Restarting kernel...\n"
          ]
        }
      ],
      "source": [
        "pyrovelocity_version = \"0.1.1\"\n",
        "pyrovelocity_colab_script_url = \\\n",
        "\"https://storage.googleapis.com/pyrovelocity/data/scripts/\" + \\\n",
        "f\"pyrovelocity-colab-{pyrovelocity_version}-Linux-x86_64.sh\"\n",
        "\n",
        "!pip install -q condacolab\n",
        "import condacolab\n",
        "\n",
        "%cd /content\n",
        "condacolab.install_from_url(pyrovelocity_colab_script_url)"
      ]
    },
    {
      "cell_type": "markdown",
      "source": [
        "### Install library"
      ],
      "metadata": {
        "id": "sKUW7Jyq3hMc"
      }
    },
    {
      "cell_type": "markdown",
      "source": [
        "You can install the upstream or a fork development version by appropriately editing the `git clone` url."
      ],
      "metadata": {
        "id": "zWZpJCqQ3jcs"
      }
    },
    {
      "cell_type": "code",
      "source": [
        "%cd /content\n",
        "%rm -f \"__installer__.sh\"\n",
        "!git clone https://github.com/pinellolab/pyrovelocity.git"
      ],
      "metadata": {
        "id": "lOPLeXosRx9M"
      },
      "execution_count": null,
      "outputs": []
    },
    {
      "cell_type": "markdown",
      "source": [
        "Because google colab uses python 3.9, you may need to edit the python version constraint in `pyproject.toml` to install in colab."
      ],
      "metadata": {
        "id": "v_lKa94u4g2Z"
      }
    },
    {
      "cell_type": "code",
      "source": [
        "!pip install --user --no-deps -e pyrovelocity\n",
        "from IPython import get_ipython\n",
        "get_ipython().kernel.do_shutdown(True)"
      ],
      "metadata": {
        "id": "dnBcNhqk4fxa"
      },
      "execution_count": null,
      "outputs": []
    },
    {
      "cell_type": "markdown",
      "source": [
        "If this is successful, the following commands should print the location of the `__init__.py` file for the pyrovelocity package and the currently installed version."
      ],
      "metadata": {
        "id": "kk76Hz3g3_FR"
      }
    },
    {
      "cell_type": "code",
      "source": [
        "import pyrovelocity\n",
        "print(pyrovelocity.__file__)\n",
        "print(pyrovelocity.__version__)"
      ],
      "metadata": {
        "colab": {
          "base_uri": "https://localhost:8080/"
        },
        "id": "QvXoFzK-zATP",
        "outputId": "f2a47888-6fc6-47c5-d3df-631173840ae2"
      },
      "execution_count": null,
      "outputs": [
        {
          "output_type": "stream",
          "name": "stdout",
          "text": [
            "/content/pyrovelocity/pyrovelocity/__init__.py\n",
            "0.1.1\n"
          ]
        }
      ]
    }
  ]
}
