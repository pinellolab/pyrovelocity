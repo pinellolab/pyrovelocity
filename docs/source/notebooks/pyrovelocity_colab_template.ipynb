{
  "cells": [
    {
      "cell_type": "markdown",
      "metadata": {
        "id": "Qpk2p3N13W_Q"
      },
      "source": [
        "# Pyrovelocity Colab notebook template"
      ]
    },
    {
      "cell_type": "markdown",
      "metadata": {},
      "source": [
        "<a target=\"_blank\" href=\"https://colab.research.google.com/github/pinellolab/pyrovelocity/blob/main/docs/source/notebooks/pyrovelocity_colab_template.ipynb\">\n",
        "  <img src=\"https://colab.research.google.com/assets/colab-badge.svg\" alt=\"Open In Colab\"/>\n",
        "</a>"
      ]
    },
    {
      "cell_type": "markdown",
      "metadata": {
        "id": "9r9zVJED3bfH"
      },
      "source": [
        "## Setup environment"
      ]
    },
    {
      "cell_type": "markdown",
      "metadata": {
        "id": "tnQdC9wi3dpY"
      },
      "source": [
        "### Install conda environment"
      ]
    },
    {
      "cell_type": "markdown",
      "metadata": {
        "id": "eylffLqA3GVb"
      },
      "source": [
        "This first stage will download and install the environment. It takes about 5 minutes. The runtime will then automatically restart. Skip execution of this cell after the restart."
      ]
    },
    {
      "cell_type": "code",
      "execution_count": null,
      "metadata": {
        "colab": {
          "base_uri": "https://localhost:8080/"
        },
        "id": "K4YU4y6VX4qR",
        "outputId": "392f66ec-c2ed-4ba5-94f6-a4fdd884e242"
      },
      "outputs": [
        {
          "name": "stdout",
          "output_type": "stream",
          "text": [
            "⏬ Downloading https://storage.googleapis.com/pyrovelocity/data/scripts/pyrovelocity-colab-0.1.1-Linux-x86_64.sh...\n",
            "📦 Installing...\n",
            "📌 Adjusting configuration...\n",
            "🩹 Patching environment...\n",
            "⏲ Done in 0:04:24\n",
            "🔁 Restarting kernel...\n"
          ]
        }
      ],
      "source": [
        "pyrovelocity_version = \"0.4.1\"\n",
        "pyrovelocity_colab_script_url = (\n",
        "    \"https://storage.googleapis.com/pyrovelocity/data/scripts/\"\n",
        "    + f\"pyrovelocity-colab-{pyrovelocity_version}-Linux-x86_64.sh\"\n",
        ")\n",
        "\n",
        "!pip install -q condacolab\n",
        "import condacolab\n",
        "\n",
        "%cd /content\n",
        "condacolab.install_from_url(pyrovelocity_colab_script_url)"
      ]
    },
    {
      "cell_type": "markdown",
      "metadata": {
        "id": "sKUW7Jyq3hMc"
      },
      "source": [
        "### Install library"
      ]
    },
    {
      "cell_type": "markdown",
      "metadata": {
        "id": "zWZpJCqQ3jcs"
      },
      "source": [
        "You can install the upstream or a fork development version by appropriately editing the `git clone` url."
      ]
    },
    {
      "cell_type": "code",
      "execution_count": null,
      "metadata": {
        "id": "lOPLeXosRx9M"
      },
      "outputs": [],
      "source": [
        "%%bash\n",
        "\n",
        "cd /content\n",
        "rm -f \"__installer__.sh\"\n",
        "rm -rf pyrovelocity\n",
        "\n",
        "# change the branch argument from a tag to a branch in development\n",
        "git clone \\\n",
        "--branch main \\\n",
        "https://github.com/pinellolab/pyrovelocity.git"
      ]
    },
    {
      "cell_type": "markdown",
      "metadata": {
        "id": "v_lKa94u4g2Z"
      },
      "source": [
        "If the colab python version is out of sync with the python version constraint in `pyproject.toml`, you may need to edit the version downloaded above to install in colab.\n",
        "\n",
        "Note that the kernel will restart again after the following command. After this you should be able to proceed to Check Installation without rerunning any of the cells above it."
      ]
    },
    {
      "cell_type": "code",
      "execution_count": null,
      "metadata": {
        "id": "dnBcNhqk4fxa"
      },
      "outputs": [],
      "source": [
        "!pip install --user --no-deps -e pyrovelocity\n",
        "from IPython import get_ipython\n",
        "\n",
        "get_ipython().kernel.do_shutdown(True)"
      ]
    },
    {
      "cell_type": "markdown",
      "metadata": {},
      "source": [
        "### Check installation"
      ]
    },
    {
      "cell_type": "markdown",
      "metadata": {
        "id": "kk76Hz3g3_FR"
      },
      "source": [
        "If this is successful, the following commands should print the location of the `__init__.py` file for the pyrovelocity package and the currently installed version."
      ]
    },
    {
      "cell_type": "code",
      "execution_count": null,
      "metadata": {
        "colab": {
          "base_uri": "https://localhost:8080/"
        },
        "id": "QvXoFzK-zATP",
        "outputId": "f2a47888-6fc6-47c5-d3df-631173840ae2"
      },
      "outputs": [],
      "source": [
        "import pyrovelocity\n",
        "\n",
        "print(pyrovelocity.__file__)\n",
        "print(pyrovelocity.__version__)"
      ]
    }
  ],
  "metadata": {
    "accelerator": "GPU",
    "colab": {
      "provenance": []
    },
    "gpuClass": "standard",
    "kernelspec": {
      "display_name": "Python 3",
      "name": "python3"
    },
    "language_info": {
      "name": "python"
    }
  },
  "nbformat": 4,
  "nbformat_minor": 0
}
